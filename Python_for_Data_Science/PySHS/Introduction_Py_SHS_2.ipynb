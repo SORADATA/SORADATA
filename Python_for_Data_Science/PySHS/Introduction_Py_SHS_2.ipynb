{
 "cells": [
  {
   "cell_type": "markdown",
   "id": "caa87e48-4c23-4bb2-bf87-59b9077689d4",
   "metadata": {},
   "source": [
    "# INTRODUCTION AUX BASES DE PYTHON POUR LES SHS                               \n",
    "\n",
    "\n",
    "In [1] : print (\"je suis un Notebook Python\")"
   ]
  },
  {
   "cell_type": "code",
   "execution_count": 44,
   "id": "133b18b2-eabf-45a0-bdc5-f2e986df8608",
   "metadata": {},
   "outputs": [
    {
     "name": "stdout",
     "output_type": "stream",
     "text": [
      "Ceci est une autre cellule....\n"
     ]
    }
   ],
   "source": [
    "print (\"Ceci est une autre cellule....\")\n"
   ]
  },
  {
   "cell_type": "code",
   "execution_count": null,
   "id": "8e4a285b-f5da-406f-b85b-0292afb315dd",
   "metadata": {},
   "outputs": [],
   "source": []
  },
  {
   "cell_type": "markdown",
   "id": "7de4133b-4e6b-4285-bf14-2c501c9b601b",
   "metadata": {},
   "source": [
    "print(\"Au secours, je suis enfermé dans un fichier \")\n",
    "\n",
    "\n"
   ]
  },
  {
   "cell_type": "code",
   "execution_count": null,
   "id": "e76c7947-bbeb-42ca-a3e5-8097efff5302",
   "metadata": {},
   "outputs": [],
   "source": []
  },
  {
   "cell_type": "code",
   "execution_count": null,
   "id": "a8fa8f5f-6a8c-4a67-a4da-cde24853a4a2",
   "metadata": {},
   "outputs": [],
   "source": [
    "entree = input()\n",
    "nombre_caracteres = len(entree)\n",
    "nombre_mots = len(entree.split())\n",
    "print(\"Le texte a : \\n {} caractères \\n {} mots\".format(nombre_caracteres, nombre_mots))\n"
   ]
  },
  {
   "cell_type": "code",
   "execution_count": null,
   "id": "d56f3990-fa2e-4b5e-bed5-01361f1b87cc",
   "metadata": {},
   "outputs": [],
   "source": [
    "entree = \n",
    "nombre_caracteres = len(entree)\n",
    "nombre_mots = len(entree.split())\n",
    "print(\"Le texte a : \\n {} caractères \\n {} mots\".format(nombre_caracteres, nombre_mots))\n"
   ]
  },
  {
   "cell_type": "code",
   "execution_count": null,
   "id": "fc64d569-eda3-4211-bb09-31016b10d842",
   "metadata": {},
   "outputs": [],
   "source": [
    "File\"<ipython-input-5-23963163c405>\", Line 1\n",
    "print(\"Essayons de ne pas faire d'erreur \")"
   ]
  },
  {
   "cell_type": "code",
   "execution_count": null,
   "id": "ed2ff6b1-c944-4f58-b457-b8f129bb4277",
   "metadata": {},
   "outputs": [],
   "source": [
    "print (\"Additionnons 2 et 2\")\n",
    "2+2"
   ]
  },
  {
   "cell_type": "code",
   "execution_count": null,
   "id": "31bf41c3-1306-4a0d-9dbb-4329d2434f3a",
   "metadata": {},
   "outputs": [],
   "source": [
    "print?"
   ]
  },
  {
   "cell_type": "code",
   "execution_count": null,
   "id": "359d40da-e189-4fbb-950f-6b9774794d10",
   "metadata": {},
   "outputs": [],
   "source": [
    "pop_france= 67190000"
   ]
  },
  {
   "cell_type": "code",
   "execution_count": null,
   "id": "6c8df21d-b297-45a5-be0b-032224b55f45",
   "metadata": {},
   "outputs": [],
   "source": [
    "pop_france_M = 67.19"
   ]
  },
  {
   "cell_type": "code",
   "execution_count": null,
   "id": "8284fe3d-063c-45dd-9b74-adcbdf523c9c",
   "metadata": {},
   "outputs": [],
   "source": [
    "print(pop_france_M)"
   ]
  },
  {
   "cell_type": "code",
   "execution_count": null,
   "id": "841ced67-8645-4862-bdb5-595a004c98da",
   "metadata": {},
   "outputs": [],
   "source": [
    "pop_france_augmentation = pop_france + 0.1*pop_france\n",
    "print(pop_france_augmentation)"
   ]
  },
  {
   "cell_type": "code",
   "execution_count": null,
   "id": "6425f953-07c6-4a27-a46c-bb041ba381da",
   "metadata": {},
   "outputs": [],
   "source": [
    "print(1.1*pop_france)"
   ]
  },
  {
   "cell_type": "code",
   "execution_count": null,
   "id": "d2016cec-307a-4b46-ae47-2b02ee368ade",
   "metadata": {},
   "outputs": [],
   "source": [
    "\" Si la pop fr augmente avec un facteur de 0,39% par an , alors la pop dans un an peut se recalculer \"\n",
    "print(pop_france)\n",
    "pop_france = pop_france + 0.0039*pop_france\n",
    "print(pop_france)"
   ]
  },
  {
   "cell_type": "code",
   "execution_count": null,
   "id": "41f90993-fdb0-45f3-9909-5d9b813d9b13",
   "metadata": {},
   "outputs": [],
   "source": [
    "\"Les types de variable \"\n",
    "pop_france=67190000\n",
    "print(type(pop_france))"
   ]
  },
  {
   "cell_type": "code",
   "execution_count": null,
   "id": "94cba08f-b3e6-4189-b07b-9a8951f592ed",
   "metadata": {},
   "outputs": [],
   "source": [
    "pop_france_M=67.19\n",
    "print(type(pop_france_M))"
   ]
  },
  {
   "cell_type": "code",
   "execution_count": null,
   "id": "dfcff19d-94e4-47de-a606-4881ea97b17d",
   "metadata": {},
   "outputs": [],
   "source": [
    "variable =None\n",
    "print(variable)"
   ]
  },
  {
   "cell_type": "code",
   "execution_count": null,
   "id": "40af81cb-ef4e-4fee-8f8f-0e5debb91f8f",
   "metadata": {},
   "outputs": [],
   "source": [
    "Pays = \"France\"\n",
    "\n"
   ]
  },
  {
   "cell_type": "code",
   "execution_count": null,
   "id": "30508937-9ec9-4bbc-a897-e41d70614f64",
   "metadata": {},
   "outputs": [],
   "source": [
    "type(Pays)"
   ]
  },
  {
   "cell_type": "code",
   "execution_count": null,
   "id": "411dd91d-26fe-4bc2-8722-fd3ed91c3b49",
   "metadata": {},
   "outputs": [],
   "source": [
    "\"\\ veut dire Backslash\"\n",
    "\n",
    "print('\"C\\'est un petit pas pour l\\'homme...\" - N. Armstrong')\n",
    "print(\"\\\"C'est un petit pas pour l'homme...\\\" - N. Armstrong\")\n",
    "print('''\"C'est un petit pas pour l'homme...\" - N. Armstrong''')\n",
    "print(\"\"\"\"C'est un petit pas pour l'homme...\" - N. Armstrong\"\"\")"
   ]
  },
  {
   "cell_type": "code",
   "execution_count": null,
   "id": "b6546a4c-9676-4387-812c-a78afdf16cd2",
   "metadata": {},
   "outputs": [],
   "source": [
    "texte= \" Population \" + str(pop_france) + \" habitants \"\n",
    "print(texte)"
   ]
  },
  {
   "cell_type": "code",
   "execution_count": null,
   "id": "7a1b643c-979b-460d-9b06-1210539ec773",
   "metadata": {},
   "outputs": [],
   "source": [
    "\n",
    "population =67190000\n",
    "pays=\"France\"\n",
    "print(pays + \" a \" +str(population) +\" habitants\") "
   ]
  },
  {
   "cell_type": "code",
   "execution_count": null,
   "id": "f49c4a20-26da-49e6-a556-92e18ece1b18",
   "metadata": {},
   "outputs": [],
   "source": [
    "\"\"\" Les crochets servent à faire une liste de ........\"\"\"\n",
    "Liste_populations = [81, 61, 46, 11, 8, 0.5]\n",
    "print(Liste_populations)"
   ]
  },
  {
   "cell_type": "code",
   "execution_count": null,
   "id": "33ba9292-a9a5-46a6-95b5-12c45e58f438",
   "metadata": {},
   "outputs": [],
   "source": [
    "print(type(Liste_populations))"
   ]
  },
  {
   "cell_type": "code",
   "execution_count": null,
   "id": "27014dd2-97e0-42d9-a93c-a11db652dee2",
   "metadata": {},
   "outputs": [],
   "source": [
    "if 0.5 in Liste_populations:\n",
    "    Liste_populations.remove(0.5)\n",
    "else:\n",
    "    print(\"L'élément 0.5 n'est pas dans la liste\")\n"
   ]
  },
  {
   "cell_type": "code",
   "execution_count": null,
   "id": "81f950fc-c7f2-4505-ba35-1f5da8b178a5",
   "metadata": {},
   "outputs": [],
   "source": [
    "print(Liste_populations)\n"
   ]
  },
  {
   "cell_type": "code",
   "execution_count": null,
   "id": "188c7293-8631-4557-9848-3f28e0e804dc",
   "metadata": {},
   "outputs": [],
   "source": [
    "print(Liste_populations[3])\n",
    "print(Liste_populations[1])\n"
   ]
  },
  {
   "cell_type": "code",
   "execution_count": null,
   "id": "711a7769-b7ff-4ffe-9a02-2b698b812b43",
   "metadata": {},
   "outputs": [],
   "source": [
    "print(\" Si je souhaite ajouter un nouvel élément: append \")\n",
    "Liste_populations.append(67)\n",
    "print(Liste_populations)"
   ]
  },
  {
   "cell_type": "code",
   "execution_count": null,
   "id": "91f30fec-8343-458f-afb8-f49edd756a7a",
   "metadata": {},
   "outputs": [],
   "source": [
    "print(\"Afin de modifier un élément dans la liste :\")\n",
    "Liste_populations[0]=82\n",
    "print(Liste_populations)"
   ]
  },
  {
   "cell_type": "code",
   "execution_count": null,
   "id": "3acc145c-d52e-4619-be9a-bf41eca7dd46",
   "metadata": {},
   "outputs": [],
   "source": [
    "print(\"Pour la liste [13, 32, 43, 23, 'dix', 16] faites un code qui remplace avec l'ordi l'avant dernier élément pour un nombre \")\n",
    "\n",
    "liste = [13, 32, 43, 23, \"dix\", 16]\n",
    "liste[-2]= 10 \n",
    "print(liste)\n"
   ]
  },
  {
   "cell_type": "code",
   "execution_count": null,
   "id": "cd72992e-d45b-48b7-9672-b23998ac7368",
   "metadata": {},
   "outputs": [],
   "source": [
    "print(\" Je souhaite lier chaque pays à sa population:\")\n",
    "dictionnaire_population={\n",
    "    \"Allemagne\":81,\n",
    "    \"Italie\":60,\n",
    "    \"Espagne\":46,\n",
    "    \"Belgique\":11,\n",
    "    \"Suisse\":8,\n",
    "    \"Luxembourg\":0.5\n",
    "}\n",
    "print(dictionnaire_population)"
   ]
  },
  {
   "cell_type": "code",
   "execution_count": null,
   "id": "771dce09-bc5d-4b9b-a58d-464a9eca49df",
   "metadata": {},
   "outputs": [],
   "source": [
    "print(dictionnaire_population[\"Allemagne\"])"
   ]
  },
  {
   "cell_type": "code",
   "execution_count": null,
   "id": "1ae4da66-d475-4e23-af30-3d5da3fdd250",
   "metadata": {},
   "outputs": [],
   "source": [
    "print(\"Ajout du UK :\")\n",
    "dictionnaire_population[\"Royaume-Uni\"]=65\n",
    "dictionnaire_population\n"
   ]
  },
  {
   "cell_type": "code",
   "execution_count": null,
   "id": "b95a4896-8f21-4681-aac1-91e1608ef011",
   "metadata": {},
   "outputs": [],
   "source": [
    "print(\"Modification de l'Allemagne :\")\n",
    "dictionnaire_population[\"Allemagne\"]=82\n",
    "dictionnaire_population"
   ]
  },
  {
   "cell_type": "code",
   "execution_count": null,
   "id": "54dc7d9a-0c8c-4e80-8d4d-508057a92b57",
   "metadata": {},
   "outputs": [],
   "source": [
    "print(\"Exercice : créer un dictionnaire avec mon nom, prenom, age et la ville de résidence, puis une liste avec plusieurs individus : \")\n",
    "mon_dictionnaire={\n",
    "    \"Nom\":\"SISSOKO\",\n",
    "    \"Prenom\":\" Moussa\",\n",
    "    \"Age\":\"25\",\n",
    "    \"Ville\":\"Metz-Grand Est, France\"\n",
    "}"
   ]
  },
  {
   "cell_type": "code",
   "execution_count": null,
   "id": "0edf0daa-c1d6-4358-ade9-badfafebec8b",
   "metadata": {},
   "outputs": [],
   "source": [
    "print(mon_dictionnaire)"
   ]
  },
  {
   "cell_type": "code",
   "execution_count": null,
   "id": "c24a58ed-7b4a-4517-8bb4-a1a27e4138c8",
   "metadata": {},
   "outputs": [],
   "source": [
    "nombre=len(dictionnaire_population)\n",
    "print(nombre)"
   ]
  },
  {
   "cell_type": "code",
   "execution_count": null,
   "id": "928affb0-ce41-4808-9a09-bd20b6b6237a",
   "metadata": {},
   "outputs": [],
   "source": [
    "print(\"Conditions et comparaisons\")\n",
    "comparaison = (\"deux\" == 2)\n",
    "print(\"Le type de la comparaison est\", type(comparaison))\n",
    "print(\"La valeur de la comparaison est\", comparaison)"
   ]
  },
  {
   "cell_type": "code",
   "execution_count": null,
   "id": "3f239ed9-2cc3-4b2a-823d-a15acf05a95c",
   "metadata": {},
   "outputs": [],
   "source": [
    "exemple= [1,2,3,4,5,5,5,5,5,5]\n",
    "exemple_set = set(exemple)\n",
    "print(len(exemple_set))"
   ]
  },
  {
   "cell_type": "code",
   "execution_count": null,
   "id": "6f367150-36e7-46f9-ad71-340ab2e396d5",
   "metadata": {},
   "outputs": [],
   "source": [
    "couleurs=[\"bleu\",\"blanc\",\"rouge\"]\n",
    "#print(couleurs[0])"
   ]
  },
  {
   "cell_type": "code",
   "execution_count": null,
   "id": "4ecd1f0a-19de-4d31-befb-d4914d72ccfb",
   "metadata": {},
   "outputs": [],
   "source": [
    "#### Les blocs structurants : conditions, boucles et fonctions \n",
    "pop_france=67\n",
    "if pop_france >= 10:\n",
    "    print(' Pus de dix millions')\n",
    "else :\n",
    "    print(' Moins de dix millions')"
   ]
  },
  {
   "cell_type": "code",
   "execution_count": null,
   "id": "86585553-402c-453b-b3a1-c46bdd1639a6",
   "metadata": {},
   "outputs": [],
   "source": [
    "print(\"Conditions : \")\n",
    "population= 18\n",
    "continent = \"Europe\"\n",
    "if (population < 10) and (continent==\"Europe\"):\n",
    "    print('Petit pays européen ')\n",
    "if(population < 10) and (continent!=\"Europe\"):\n",
    "    print('Petit pays non européen')\n",
    "if(population >= 10) and (continent==\"Europe\"):\n",
    "    print('Grand pays européen')"
   ]
  },
  {
   "cell_type": "code",
   "execution_count": null,
   "id": "2e5f1781-5461-4d33-a2a6-33ceb02aae1c",
   "metadata": {},
   "outputs": [],
   "source": [
    "## Les boucles \n",
    "print(\"Les Boucles : \")\n",
    "Liste_populations =[81,67,60,46,11,8,0.5]\n",
    "for po in Liste_populations:\n",
    "    print(\"population\",p)\n",
    "      "
   ]
  },
  {
   "cell_type": "code",
   "execution_count": null,
   "id": "23b51fcf-82ed-4010-87b6-75bbe0c43c8e",
   "metadata": {},
   "outputs": [],
   "source": [
    "for pays in dictionnaire_population:\n",
    "    print(pays,dictionnaire_population[pays])"
   ]
  },
  {
   "cell_type": "code",
   "execution_count": null,
   "id": "39dd3c2d-9a45-4e40-9f02-5736c0e9a90a",
   "metadata": {},
   "outputs": [],
   "source": [
    "for pays in dictionnaire_population:\n",
    "    if dictionnaire_population[pays] >= 50:\n",
    "        print(pays, dictionnaire_population[pays])"
   ]
  },
  {
   "cell_type": "code",
   "execution_count": null,
   "id": "4c8a5b1c-ff1a-4bd6-bb35-de37d2f8c65c",
   "metadata": {},
   "outputs": [],
   "source": [
    "def recoder_population(population_entree):\n",
    "    if population_entree >=10:\n",
    "        return \">=10\"\n",
    "    else:\n",
    "        return \"<=10\""
   ]
  },
  {
   "cell_type": "code",
   "execution_count": null,
   "id": "fe2a4bc1-4488-4dbf-a850-12c9f431cce1",
   "metadata": {},
   "outputs": [],
   "source": [
    "recoder_population(11)"
   ]
  },
  {
   "cell_type": "code",
   "execution_count": null,
   "id": "734feb54-298a-4a54-8b10-dd72b9de09bf",
   "metadata": {},
   "outputs": [],
   "source": [
    "pop_reco=[]\n",
    "for pop in Liste_populations:\n",
    "    pop_reco.append(recoder_population(pop))\n",
    "print(pop_reco)"
   ]
  },
  {
   "cell_type": "code",
   "execution_count": null,
   "id": "7827c15e-bbb1-4a5b-97ed-50583aacb39d",
   "metadata": {},
   "outputs": [],
   "source": [
    "def recoder_population(populaion_entree):\n",
    "    if type(population_entree)!=int:\n",
    "        return \"Erreur d'entrée\"\n",
    "    if population_entree >=10:\n",
    "        return \" Plus de 10 millions\"\n",
    "    else:\n",
    "        return \"Moins de 10 millions \""
   ]
  },
  {
   "cell_type": "code",
   "execution_count": 7,
   "id": "3777f1a9-1192-4955-8afa-bf7f9e8e0327",
   "metadata": {},
   "outputs": [],
   "source": [
    "def recoder_population(pop, seuil=10):\n",
    "    if pop >= seuil:\n",
    "        return \"Plus de \"+str(seuil)+\" millions d'habitants\"\n",
    "    else:\n",
    "        return \"Moins de \"+str(seuil)+\" millions d'habitants\""
   ]
  },
  {
   "cell_type": "code",
   "execution_count": 9,
   "id": "847b8190-3bda-4290-9206-135250f986d6",
   "metadata": {},
   "outputs": [
    {
     "name": "stdout",
     "output_type": "stream",
     "text": [
      "Plus de 10 millions d'habitants\n",
      "Moins de 30 millions d'habitants\n"
     ]
    }
   ],
   "source": [
    "print(recoder_population(20))\n",
    "print(recoder_population(20,30))"
   ]
  },
  {
   "cell_type": "code",
   "execution_count": null,
   "id": "9dad1beb-235f-4457-92db-f00bd5002b83",
   "metadata": {},
   "outputs": [],
   "source": [
    "sum(range(1,1001))\n"
   ]
  },
  {
   "cell_type": "code",
   "execution_count": null,
   "id": "ba2a85fd-f35d-4eaa-abc9-0e233b7ad64d",
   "metadata": {},
   "outputs": [],
   "source": [
    "variable_globale = 20 \n",
    "\n",
    "# Définition d'une fonction\n",
    "def test():\n",
    "    variable_locale = 10\n",
    "    print(\"variable_globale : \", variable_globale)\n",
    "    print(\"variable_locale : \", variable-locale)\n",
    "\n",
    "# Execution de la fonction \n",
    "test()\n",
    "print(variable_locale)\n"
   ]
  },
  {
   "cell_type": "code",
   "execution_count": null,
   "id": "3bd67dc4-89ad-45cd-b8dc-8d20765b8f67",
   "metadata": {},
   "outputs": [],
   "source": [
    "# Déclaration de la variable globale\n",
    "variable_globale = 20\n",
    "\n",
    "def test():\n",
    "    # Déclaration de la variable locale\n",
    "    variable_locale = 10\n",
    "    print(\"variable_globale : \", variable_globale)\n",
    "    print(\"variable_locale : \", variable_locale)\n",
    "\n",
    "# Exécution de la fonction \n",
    "test()\n",
    "\n"
   ]
  },
  {
   "cell_type": "code",
   "execution_count": null,
   "id": "38b82e10-1717-4e75-b351-3d0decc4baf8",
   "metadata": {},
   "outputs": [],
   "source": [
    "print(dictionnaire_population[Brésil])\n"
   ]
  },
  {
   "cell_type": "code",
   "execution_count": null,
   "id": "bbe179e2-362e-46f5-843c-161d00b66018",
   "metadata": {},
   "outputs": [],
   "source": [
    "try:\n",
    "   print(dictionnaire_population[\"Brésil\"]) \n",
    "except:\n",
    "    print(\"Entrée absente\")"
   ]
  },
  {
   "cell_type": "code",
   "execution_count": null,
   "id": "c0da9d7c-d808-4f81-9366-3a4d7cbe19e2",
   "metadata": {},
   "outputs": [],
   "source": [
    "!pip install pandas "
   ]
  },
  {
   "cell_type": "code",
   "execution_count": null,
   "id": "dd8bffda-551a-4ab0-be2b-6a84fc0822cb",
   "metadata": {},
   "outputs": [],
   "source": [
    "!pip install requests"
   ]
  },
  {
   "cell_type": "code",
   "execution_count": null,
   "id": "f981fade-6af2-4ba5-a515-f5f6bf309e4b",
   "metadata": {},
   "outputs": [],
   "source": [
    "import requests as req"
   ]
  },
  {
   "cell_type": "code",
   "execution_count": null,
   "id": "1126eb33-9c17-4b6d-b605-547dad2e0343",
   "metadata": {},
   "outputs": [],
   "source": [
    "req.get(\"http://lemonde.fr\")"
   ]
  },
  {
   "cell_type": "code",
   "execution_count": null,
   "id": "ce92f212-30bc-40e3-98f9-c7dcacfe7f66",
   "metadata": {},
   "outputs": [],
   "source": [
    "reponse = req.get(\"http://lemonde.fr\")\n",
    "contenu = reponse.text\n",
    "print(contenu([1000:1500])"
   ]
  },
  {
   "cell_type": "code",
   "execution_count": 15,
   "id": "eb395a99-f084-4f6d-af9e-13055c537bb4",
   "metadata": {},
   "outputs": [],
   "source": [
    "def calcul_prop_f(ligne):\n",
    "    if (ligne[\"P15_POP\"] is None) or (ligne[\"P15_POP\"] == 0):\n",
    "        return None\n",
    "    # Remplacer P15_POP par une autre variable pour calculer la proportion correcte\n",
    "    proportion = 100 * ligne[\"P15_SOME_OTHER_VALUE\"] / ligne[\"P15_POP\"]\n",
    "    return round(proportion, 1)\n"
   ]
  },
  {
   "cell_type": "code",
   "execution_count": 19,
   "id": "26f9a98e-e1e1-4b3d-bc49-f76e61cb6a71",
   "metadata": {},
   "outputs": [
    {
     "name": "stdout",
     "output_type": "stream",
     "text": [
      "   P15_POP  P15_SOME_OTHER_VALUE  prop_f\n",
      "0    100.0                    50    50.0\n",
      "1    200.0                   100    50.0\n",
      "2      NaN                     0     NaN\n",
      "3      0.0                     0     NaN\n",
      "4    150.0                    75    50.0\n"
     ]
    }
   ],
   "source": [
    "import pandas as pd\n",
    "\n",
    "# Supposons que 'donnees' est un DataFrame avec des colonnes pertinentes\n",
    "# Exemple de création d'un DataFrame :\n",
    "donnees = pd.DataFrame({\n",
    "    \"P15_POP\": [100, 200, None, 0, 150],\n",
    "    \"P15_SOME_OTHER_VALUE\": [50, 100, 0, 0, 75]\n",
    "})\n",
    "\n",
    "# Votre fonction calcul_prop_f\n",
    "def calcul_prop_f(ligne):\n",
    "    if (ligne[\"P15_POP\"] is None) or (ligne[\"P15_POP\"] == 0):\n",
    "        return None\n",
    "    proportion = 100 * ligne[\"P15_SOME_OTHER_VALUE\"] / ligne[\"P15_POP\"]\n",
    "    return round(proportion, 1)\n",
    "\n",
    "# Application de la fonction au DataFrame\n",
    "donnees[\"prop_f\"] = donnees.apply(calcul_prop_f, axis=1)\n",
    "\n",
    "# Affichage des premières lignes\n",
    "print(donnees.head())\n"
   ]
  },
  {
   "cell_type": "code",
   "execution_count": 63,
   "id": "80d612d1-e977-4fde-ad91-b8790be58e0d",
   "metadata": {},
   "outputs": [
    {
     "name": "stdout",
     "output_type": "stream",
     "text": [
      "   P15_POP  P15_SOME_OTHER_VALUE  prop_f      P15_POP_C  prop_ouvr\n",
      "0    100.0                    50    50.0  (0.0, 1000.0]       50.0\n",
      "1    200.0                   100    50.0  (0.0, 1000.0]       50.0\n",
      "2      NaN                     0     NaN            NaN        NaN\n",
      "3      0.0                     0     NaN            NaN        NaN\n",
      "4    150.0                    75    50.0  (0.0, 1000.0]       50.0\n"
     ]
    }
   ],
   "source": [
    "def calcul_prop_ouvr(ligne):\n",
    "    if (ligne[\"P15_POP\"] is None) or (ligne[\"P15_POP\"] == 0):\n",
    "        return None\n",
    "    proportion = 100 * ligne[\"P15_SOME_OTHER_VALUE\"] / ligne[\"P15_POP\"]\n",
    "    return round(proportion, 1)\n",
    "\n",
    "# Appliquez cette fonction pour créer la colonne 'prop_ouvr'\n",
    "donnees[\"prop_ouvr\"] = donnees.apply(calcul_prop_ouvr, axis=1)\n",
    "print(donnees.head())\n"
   ]
  },
  {
   "cell_type": "code",
   "execution_count": 71,
   "id": "7a17cb8f-9d50-41af-8d24-573e6248dc04",
   "metadata": {},
   "outputs": [
    {
     "name": "stdout",
     "output_type": "stream",
     "text": [
      "\n"
     ]
    }
   ],
   "source": [
    "def calcul_prop_femmes(ligne):\n",
    "    if (ligne[\"P15_POP\"] is None) or (ligne[\"P15_POP\"] == 0):\n",
    "        return None\n",
    "    proportion = 100 * ligne[\"P15_FEMMES\"] / ligne[\"P15_POP\"]\n",
    "    return round(proportion, 1)\n",
    "print()"
   ]
  },
  {
   "cell_type": "markdown",
   "id": "d419eb88-672a-4b52-90a8-fd411aba6bdb",
   "metadata": {},
   "source": [
    "Recoder les var_numériques en intervalles "
   ]
  },
  {
   "cell_type": "code",
   "execution_count": 44,
   "id": "9891436a-0e03-40b3-afc4-7a257e324437",
   "metadata": {},
   "outputs": [
    {
     "data": {
      "text/plain": [
       "0    (0.0, 1000.0]\n",
       "1    (0.0, 1000.0]\n",
       "2              NaN\n",
       "3              NaN\n",
       "4    (0.0, 1000.0]\n",
       "Name: P15_POP_C, dtype: category\n",
       "Categories (4, interval[int64, right]): [(0, 1000] < (1000, 10000] < (10000, 100000] < (100000, 10000000]]"
      ]
     },
     "execution_count": 44,
     "metadata": {},
     "output_type": "execute_result"
    }
   ],
   "source": [
    "q= [0,1000,10000,100000,10000000]\n",
    "donnees[\"P15_POP_C\"] = pd.cut(donnees[\"P15_POP\"],q)\n",
    "donnees[\"P15_POP_C\"].head()"
   ]
  },
  {
   "cell_type": "markdown",
   "id": "b2035d75-6a87-441f-8a76-28eebd504e73",
   "metadata": {},
   "source": [
    "Analyse univariée des données "
   ]
  },
  {
   "cell_type": "code",
   "execution_count": 97,
   "id": "5a8061a8-51c4-495c-9e36-def3dc7d2db0",
   "metadata": {},
   "outputs": [
    {
     "name": "stdout",
     "output_type": "stream",
     "text": [
      "prop_cat\n",
      "Similaire    3\n",
      "Supérieur    2\n",
      "Name: count, dtype: int64\n",
      "prop_cat\n",
      "Similaire    60.0\n",
      "Supérieur    40.0\n",
      "Name: proportion, dtype: float64\n"
     ]
    }
   ],
   "source": [
    "# Le tri à plat des variables qui correspond à la distribution d'une var catégorielle, cad le nombre de fois ou chaque modalité apparait dans nos données \n",
    "\n",
    "def categoriser_proportion(proportion):\n",
    "    if proportion is None:\n",
    "        return 'Non défini'\n",
    "    elif proportion < 45:  # Par exemple, en dessous de 45% est considéré comme 'Inférieur'\n",
    "        return 'Inférieur'\n",
    "    elif 45 <= proportion <= 55:  # Entre 45% et 55% est considéré comme 'Similaire'\n",
    "        return 'Similaire'\n",
    "    else:  # Au-dessus de 55% est considéré comme 'Supérieur'\n",
    "        return 'Supérieur'\n",
    "\n",
    "print(donnees[\"prop_cat\"].value_counts())\n",
    "\n",
    "# Appliquer la catégorisation sur la colonne 'prop_ouvr'\n",
    "donnees[\"prop_cat\"] = donnees[\"prop_ouvr\"].apply(categoriser_proportion)\n",
    "\n",
    "# Afficher la distribution en pourcentage des catégories\n",
    "distribution_pourcentage = donnees[\"prop_cat\"].value_counts(normalize=True) * 100\n",
    "print(distribution_pourcentage)\n",
    "\n",
    "\n"
   ]
  },
  {
   "cell_type": "code",
   "execution_count": 99,
   "id": "e8c81f54-1340-404d-810d-ca94618a3fcd",
   "metadata": {},
   "outputs": [],
   "source": [
    "# Consrtuire un tableau qui donne directement le tableau avec les valeurs absolues et les pourcentages\n",
    "def construire_tableau(colonne):\n",
    "    effectif = colonne.value_counts()\n",
    "    pourcentage = round(100*colonne.value_counts(normalize=True),1)\n",
    "    tableau = pd.Dataframe([Effectif, pourcentage]).T\n",
    "    tableau.columns = [\"Effectif\",\"pourcentage(%)\"]\n",
    "    return tableau"
   ]
  },
  {
   "cell_type": "code",
   "execution_count": 101,
   "id": "543ca2fa-5a9f-49ae-8458-5abdfad24868",
   "metadata": {},
   "outputs": [],
   "source": [
    "donnees[\"prop_f_ab\"] = donnees[\"prop_f\"].fillna(\"Absent\")"
   ]
  },
  {
   "cell_type": "code",
   "execution_count": 103,
   "id": "61ddb04f-de0e-41da-bf14-b767c7d44c4f",
   "metadata": {},
   "outputs": [
    {
     "data": {
      "image/png": "[encoded data removed]",
      "text/plain": [
       "<Figure size 640x480 with 1 Axes>"
      ]
     },
     "metadata": {},
     "output_type": "display_data"
    }
   ],
   "source": [
    "comptage = donnees[\"prop_cat\"].value_counts()\n",
    "ax = comptage.plot(kind=\"barh\", color=\"lightgray\")"
   ]
  },
  {
   "cell_type": "markdown",
   "id": "6c29781f-a418-4f50-98fb-0a021cc3316f",
   "metadata": {},
   "source": [
    "                                               Indicateurs de tendance centrale "
   ]
  },
  {
   "cell_type": "code",
   "execution_count": 112,
   "id": "986a1da8-0aa6-4948-b84f-55303fd80aae",
   "metadata": {},
   "outputs": [
    {
     "data": {
      "text/html": [
       "<div>\n",
       "<style scoped>\n",
       "    .dataframe tbody tr th:only-of-type {\n",
       "        vertical-align: middle;\n",
       "    }\n",
       "\n",
       "    .dataframe tbody tr th {\n",
       "        vertical-align: top;\n",
       "    }\n",
       "\n",
       "    .dataframe thead th {\n",
       "        text-align: right;\n",
       "    }\n",
       "</style>\n",
       "<table border=\"1\" class=\"dataframe\">\n",
       "  <thead>\n",
       "    <tr style=\"text-align: right;\">\n",
       "      <th></th>\n",
       "      <th>P15_POP</th>\n",
       "      <th>P15_SOME_OTHER_VALUE</th>\n",
       "      <th>prop_f</th>\n",
       "      <th>prop_ouvr</th>\n",
       "    </tr>\n",
       "  </thead>\n",
       "  <tbody>\n",
       "    <tr>\n",
       "      <th>count</th>\n",
       "      <td>4.000000</td>\n",
       "      <td>5.00000</td>\n",
       "      <td>3.0</td>\n",
       "      <td>3.0</td>\n",
       "    </tr>\n",
       "    <tr>\n",
       "      <th>mean</th>\n",
       "      <td>112.500000</td>\n",
       "      <td>45.00000</td>\n",
       "      <td>50.0</td>\n",
       "      <td>50.0</td>\n",
       "    </tr>\n",
       "    <tr>\n",
       "      <th>std</th>\n",
       "      <td>85.391256</td>\n",
       "      <td>44.72136</td>\n",
       "      <td>0.0</td>\n",
       "      <td>0.0</td>\n",
       "    </tr>\n",
       "    <tr>\n",
       "      <th>min</th>\n",
       "      <td>0.000000</td>\n",
       "      <td>0.00000</td>\n",
       "      <td>50.0</td>\n",
       "      <td>50.0</td>\n",
       "    </tr>\n",
       "    <tr>\n",
       "      <th>25%</th>\n",
       "      <td>75.000000</td>\n",
       "      <td>0.00000</td>\n",
       "      <td>50.0</td>\n",
       "      <td>50.0</td>\n",
       "    </tr>\n",
       "    <tr>\n",
       "      <th>50%</th>\n",
       "      <td>125.000000</td>\n",
       "      <td>50.00000</td>\n",
       "      <td>50.0</td>\n",
       "      <td>50.0</td>\n",
       "    </tr>\n",
       "    <tr>\n",
       "      <th>75%</th>\n",
       "      <td>162.500000</td>\n",
       "      <td>75.00000</td>\n",
       "      <td>50.0</td>\n",
       "      <td>50.0</td>\n",
       "    </tr>\n",
       "    <tr>\n",
       "      <th>max</th>\n",
       "      <td>200.000000</td>\n",
       "      <td>100.00000</td>\n",
       "      <td>50.0</td>\n",
       "      <td>50.0</td>\n",
       "    </tr>\n",
       "  </tbody>\n",
       "</table>\n",
       "</div>"
      ],
      "text/plain": [
       "          P15_POP  P15_SOME_OTHER_VALUE  prop_f  prop_ouvr\n",
       "count    4.000000               5.00000     3.0        3.0\n",
       "mean   112.500000              45.00000    50.0       50.0\n",
       "std     85.391256              44.72136     0.0        0.0\n",
       "min      0.000000               0.00000    50.0       50.0\n",
       "25%     75.000000               0.00000    50.0       50.0\n",
       "50%    125.000000              50.00000    50.0       50.0\n",
       "75%    162.500000              75.00000    50.0       50.0\n",
       "max    200.000000             100.00000    50.0       50.0"
      ]
     },
     "execution_count": 112,
     "metadata": {},
     "output_type": "execute_result"
    }
   ],
   "source": [
    "# La fonction qui permet de calculer la distance interdécille Q2-Q3\n",
    "\n",
    "donnees.describe()"
   ]
  },
  {
   "cell_type": "code",
   "execution_count": 120,
   "id": "57af19fc-35e5-4827-9883-7f55fe891dfc",
   "metadata": {},
   "outputs": [
    {
     "data": {
      "text/html": [
       "<div>\n",
       "<style scoped>\n",
       "    .dataframe tbody tr th:only-of-type {\n",
       "        vertical-align: middle;\n",
       "    }\n",
       "\n",
       "    .dataframe tbody tr th {\n",
       "        vertical-align: top;\n",
       "    }\n",
       "\n",
       "    .dataframe thead th {\n",
       "        text-align: right;\n",
       "    }\n",
       "</style>\n",
       "<table border=\"1\" class=\"dataframe\">\n",
       "  <thead>\n",
       "    <tr style=\"text-align: right;\">\n",
       "      <th>prop_ouvr</th>\n",
       "      <th>50.0</th>\n",
       "    </tr>\n",
       "    <tr>\n",
       "      <th>prop_f</th>\n",
       "      <th></th>\n",
       "    </tr>\n",
       "  </thead>\n",
       "  <tbody>\n",
       "    <tr>\n",
       "      <th>50.0</th>\n",
       "      <td>3</td>\n",
       "    </tr>\n",
       "  </tbody>\n",
       "</table>\n",
       "</div>"
      ],
      "text/plain": [
       "prop_ouvr  50.0\n",
       "prop_f         \n",
       "50.0          3"
      ]
     },
     "execution_count": 120,
     "metadata": {},
     "output_type": "execute_result"
    }
   ],
   "source": [
    "# Un tableau croisé\n",
    "\n",
    "pd.crosstab(donnees[\"prop_f\"],donnees[\"prop_ouvr\"])"
   ]
  },
  {
   "cell_type": "code",
   "execution_count": null,
   "id": "c0a362e9-b893-463b-8284-cb9bf62f0fe0",
   "metadata": {},
   "outputs": [],
   "source": []
  }
 ],
 "metadata": {
  "kernelspec": {
   "display_name": "Python 3 (ipykernel)",
   "language": "python",
   "name": "python3"
  },
  "language_info": {
   "codemirror_mode": {
    "name": "ipython",
    "version": 3
   },
   "file_extension": ".py",
   "mimetype": "text/x-python",
   "name": "python",
   "nbconvert_exporter": "python",
   "pygments_lexer": "ipython3",
   "version": "3.12.4"
  }
 },
 "nbformat": 4,
 "nbformat_minor": 5
}
