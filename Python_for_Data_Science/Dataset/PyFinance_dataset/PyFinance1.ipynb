{
 "cells": [
  {
   "cell_type": "code",
   "execution_count": 11,
   "id": "03768651-6fe9-4460-8a95-ff4007a099d8",
   "metadata": {},
   "outputs": [
    {
     "name": "stdout",
     "output_type": "stream",
     "text": [
      "  CUST_ID;BALANCE;BALANCE_FREQUENCY;PURCHASES;ONEOFF_PURCHASES;INSTALLMENTS_PURCHASES;CASH_ADVANCE;PURCHASES_FREQUENCY;ONEOFF_PURCHASES_FREQUENCY;PURCHASES_INSTALLMENTS_FREQUENCY;CASH_ADVANCE_FREQUENCY;CASH_ADVANCE_TRX;PURCHASES_TRX;CREDIT_LIMIT;PAYMENTS;MINIMUM_PAYMENTS;PRC_FULL_PAYMENT;TENURE\n",
      "0  C10001;40.900749;0.818182;95.4;0;95.4;0;0.1666...                                                                                                                                                                                                                                                   \n",
      "1  C10002;3202.467416;0.909091;0;0;0;6442.945483;...                                                                                                                                                                                                                                                   \n",
      "2  C10003;2495.148862;1;773.17;773.17;0;0;1;1;0;0...                                                                                                                                                                                                                                                   \n",
      "3  C10004;1666.670542;0.636364;1499;1499;0;205.78...                                                                                                                                                                                                                                                   \n",
      "4  C10005;817.714335;1;16;16;0;0;0.083333;0.08333...                                                                                                                                                                                                                                                   \n"
     ]
    }
   ],
   "source": [
    "import pandas as pd\n",
    "\n",
    "# Lecture du fichier CSV\n",
    "tableau = pd.read_csv(r\"C:\\Users\\sisso\\OneDrive\\Documents\\GitHub\\SORADATA\\Python_for_Data_Science\\Dataset\\PyFinance_dataset\\data_finance.csv\")\n",
    "\n",
    "# Affichage des premières lignes pour vérifier que le fichier a été correctement chargé\n",
    "print(tableau.head())\n"
   ]
  },
  {
   "cell_type": "code",
   "execution_count": 13,
   "id": "390824a2-28d9-46c5-a36d-d753d64f2f74",
   "metadata": {},
   "outputs": [
    {
     "data": {
      "text/html": [
       "<div>\n",
       "<style scoped>\n",
       "    .dataframe tbody tr th:only-of-type {\n",
       "        vertical-align: middle;\n",
       "    }\n",
       "\n",
       "    .dataframe tbody tr th {\n",
       "        vertical-align: top;\n",
       "    }\n",
       "\n",
       "    .dataframe thead th {\n",
       "        text-align: right;\n",
       "    }\n",
       "</style>\n",
       "<table border=\"1\" class=\"dataframe\">\n",
       "  <thead>\n",
       "    <tr style=\"text-align: right;\">\n",
       "      <th></th>\n",
       "      <th>CUST_ID;BALANCE;BALANCE_FREQUENCY;PURCHASES;ONEOFF_PURCHASES;INSTALLMENTS_PURCHASES;CASH_ADVANCE;PURCHASES_FREQUENCY;ONEOFF_PURCHASES_FREQUENCY;PURCHASES_INSTALLMENTS_FREQUENCY;CASH_ADVANCE_FREQUENCY;CASH_ADVANCE_TRX;PURCHASES_TRX;CREDIT_LIMIT;PAYMENTS;MINIMUM_PAYMENTS;PRC_FULL_PAYMENT;TENURE</th>\n",
       "    </tr>\n",
       "  </thead>\n",
       "  <tbody>\n",
       "    <tr>\n",
       "      <th>0</th>\n",
       "      <td>C10001;40.900749;0.818182;95.4;0;95.4;0;0.1666...</td>\n",
       "    </tr>\n",
       "    <tr>\n",
       "      <th>1</th>\n",
       "      <td>C10002;3202.467416;0.909091;0;0;0;6442.945483;...</td>\n",
       "    </tr>\n",
       "    <tr>\n",
       "      <th>2</th>\n",
       "      <td>C10003;2495.148862;1;773.17;773.17;0;0;1;1;0;0...</td>\n",
       "    </tr>\n",
       "    <tr>\n",
       "      <th>3</th>\n",
       "      <td>C10004;1666.670542;0.636364;1499;1499;0;205.78...</td>\n",
       "    </tr>\n",
       "    <tr>\n",
       "      <th>4</th>\n",
       "      <td>C10005;817.714335;1;16;16;0;0;0.083333;0.08333...</td>\n",
       "    </tr>\n",
       "  </tbody>\n",
       "</table>\n",
       "</div>"
      ],
      "text/plain": [
       "  CUST_ID;BALANCE;BALANCE_FREQUENCY;PURCHASES;ONEOFF_PURCHASES;INSTALLMENTS_PURCHASES;CASH_ADVANCE;PURCHASES_FREQUENCY;ONEOFF_PURCHASES_FREQUENCY;PURCHASES_INSTALLMENTS_FREQUENCY;CASH_ADVANCE_FREQUENCY;CASH_ADVANCE_TRX;PURCHASES_TRX;CREDIT_LIMIT;PAYMENTS;MINIMUM_PAYMENTS;PRC_FULL_PAYMENT;TENURE\n",
       "0  C10001;40.900749;0.818182;95.4;0;95.4;0;0.1666...                                                                                                                                                                                                                                                   \n",
       "1  C10002;3202.467416;0.909091;0;0;0;6442.945483;...                                                                                                                                                                                                                                                   \n",
       "2  C10003;2495.148862;1;773.17;773.17;0;0;1;1;0;0...                                                                                                                                                                                                                                                   \n",
       "3  C10004;1666.670542;0.636364;1499;1499;0;205.78...                                                                                                                                                                                                                                                   \n",
       "4  C10005;817.714335;1;16;16;0;0;0.083333;0.08333...                                                                                                                                                                                                                                                   "
      ]
     },
     "execution_count": 13,
     "metadata": {},
     "output_type": "execute_result"
    }
   ],
   "source": [
    "tableau.head()\n"
   ]
  },
  {
   "cell_type": "code",
   "execution_count": null,
   "id": "8c4bbf34-661a-48d3-bb3a-9ab2d19f0ecf",
   "metadata": {},
   "outputs": [],
   "source": []
  }
 ],
 "metadata": {
  "kernelspec": {
   "display_name": "Python 3 (ipykernel)",
   "language": "python",
   "name": "python3"
  },
  "language_info": {
   "codemirror_mode": {
    "name": "ipython",
    "version": 3
   },
   "file_extension": ".py",
   "mimetype": "text/x-python",
   "name": "python",
   "nbconvert_exporter": "python",
   "pygments_lexer": "ipython3",
   "version": "3.12.4"
  }
 },
 "nbformat": 4,
 "nbformat_minor": 5
}
