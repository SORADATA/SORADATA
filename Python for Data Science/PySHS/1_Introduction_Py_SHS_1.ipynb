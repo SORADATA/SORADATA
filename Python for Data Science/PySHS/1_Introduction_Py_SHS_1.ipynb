{
 "cells": [
  {
   "cell_type": "code",
   "execution_count": 193,
   "id": "38dde086-557a-4f17-8ea8-2909f953832b",
   "metadata": {},
   "outputs": [
    {
     "name": "stdout",
     "output_type": "stream",
     "text": [
      " INTRODUCTION DES BASES PYTHON POUR LES SHS \n",
      "je suis un Notebook Python\n"
     ]
    }
   ],
   "source": [
    "######################## INTRODUCTION AUX BASES DE PYTHON POUR LES SHS ###########################################################                                 print(\"\"\" INTRODUCTION DES BASES PYTHON POUR LES SHS \"\"\"\"\"\"\"\"\"\"\")\n",
    "\n",
    "In [1] : print (\"je suis un Notebook Python\")"
   ]
  },
  {
   "cell_type": "code",
   "execution_count": 3,
   "id": "133b18b2-eabf-45a0-bdc5-f2e986df8608",
   "metadata": {},
   "outputs": [
    {
     "name": "stdout",
     "output_type": "stream",
     "text": [
      "Ceci est une autre cellule....\n"
     ]
    }
   ],
   "source": [
    "print (\"Ceci est une autre cellule....\")\n"
   ]
  },
  {
   "cell_type": "code",
   "execution_count": null,
   "id": "8e4a285b-f5da-406f-b85b-0292afb315dd",
   "metadata": {},
   "outputs": [],
   "source": [
    "2*d"
   ]
  },
  {
   "cell_type": "markdown",
   "id": "7de4133b-4e6b-4285-bf14-2c501c9b601b",
   "metadata": {},
   "source": [
    "print(\"Au secours, je suis enfermé dans un fichier \")\n",
    "\n",
    "\n"
   ]
  },
  {
   "cell_type": "code",
   "execution_count": 1,
   "id": "e76c7947-bbeb-42ca-a3e5-8097efff5302",
   "metadata": {},
   "outputs": [
    {
     "ename": "KeyboardInterrupt",
     "evalue": "Interrupted by user",
     "output_type": "error",
     "traceback": [
      "\u001b[1;31m---------------------------------------------------------------------------\u001b[0m",
      "\u001b[1;31mKeyboardInterrupt\u001b[0m                         Traceback (most recent call last)",
      "Cell \u001b[1;32mIn[1], line 1\u001b[0m\n\u001b[1;32m----> 1\u001b[0m entree \u001b[38;5;241m=\u001b[39m \u001b[38;5;28;43minput\u001b[39;49m\u001b[43m(\u001b[49m\u001b[43m)\u001b[49m\n\u001b[0;32m      2\u001b[0m nombre_caracteres \u001b[38;5;241m=\u001b[39m \u001b[38;5;28mlen\u001b[39m (entree)\n\u001b[0;32m      3\u001b[0m nombre_mots \u001b[38;5;241m=\u001b[39m \u001b[38;5;28mlen\u001b[39m(entree\u001b[38;5;241m.\u001b[39msplit())\n",
      "File \u001b[1;32m~\\AppData\\Roaming\\Python\\Python312\\site-packages\\ipykernel\\kernelbase.py:1270\u001b[0m, in \u001b[0;36mKernel.raw_input\u001b[1;34m(self, prompt)\u001b[0m\n\u001b[0;32m   1268\u001b[0m     msg \u001b[38;5;241m=\u001b[39m \u001b[38;5;124m\"\u001b[39m\u001b[38;5;124mraw_input was called, but this frontend does not support input requests.\u001b[39m\u001b[38;5;124m\"\u001b[39m\n\u001b[0;32m   1269\u001b[0m     \u001b[38;5;28;01mraise\u001b[39;00m StdinNotImplementedError(msg)\n\u001b[1;32m-> 1270\u001b[0m \u001b[38;5;28;01mreturn\u001b[39;00m \u001b[38;5;28;43mself\u001b[39;49m\u001b[38;5;241;43m.\u001b[39;49m\u001b[43m_input_request\u001b[49m\u001b[43m(\u001b[49m\n\u001b[0;32m   1271\u001b[0m \u001b[43m    \u001b[49m\u001b[38;5;28;43mstr\u001b[39;49m\u001b[43m(\u001b[49m\u001b[43mprompt\u001b[49m\u001b[43m)\u001b[49m\u001b[43m,\u001b[49m\n\u001b[0;32m   1272\u001b[0m \u001b[43m    \u001b[49m\u001b[38;5;28;43mself\u001b[39;49m\u001b[38;5;241;43m.\u001b[39;49m\u001b[43m_parent_ident\u001b[49m\u001b[43m[\u001b[49m\u001b[38;5;124;43m\"\u001b[39;49m\u001b[38;5;124;43mshell\u001b[39;49m\u001b[38;5;124;43m\"\u001b[39;49m\u001b[43m]\u001b[49m\u001b[43m,\u001b[49m\n\u001b[0;32m   1273\u001b[0m \u001b[43m    \u001b[49m\u001b[38;5;28;43mself\u001b[39;49m\u001b[38;5;241;43m.\u001b[39;49m\u001b[43mget_parent\u001b[49m\u001b[43m(\u001b[49m\u001b[38;5;124;43m\"\u001b[39;49m\u001b[38;5;124;43mshell\u001b[39;49m\u001b[38;5;124;43m\"\u001b[39;49m\u001b[43m)\u001b[49m\u001b[43m,\u001b[49m\n\u001b[0;32m   1274\u001b[0m \u001b[43m    \u001b[49m\u001b[43mpassword\u001b[49m\u001b[38;5;241;43m=\u001b[39;49m\u001b[38;5;28;43;01mFalse\u001b[39;49;00m\u001b[43m,\u001b[49m\n\u001b[0;32m   1275\u001b[0m \u001b[43m\u001b[49m\u001b[43m)\u001b[49m\n",
      "File \u001b[1;32m~\\AppData\\Roaming\\Python\\Python312\\site-packages\\ipykernel\\kernelbase.py:1313\u001b[0m, in \u001b[0;36mKernel._input_request\u001b[1;34m(self, prompt, ident, parent, password)\u001b[0m\n\u001b[0;32m   1310\u001b[0m \u001b[38;5;28;01mexcept\u001b[39;00m \u001b[38;5;167;01mKeyboardInterrupt\u001b[39;00m:\n\u001b[0;32m   1311\u001b[0m     \u001b[38;5;66;03m# re-raise KeyboardInterrupt, to truncate traceback\u001b[39;00m\n\u001b[0;32m   1312\u001b[0m     msg \u001b[38;5;241m=\u001b[39m \u001b[38;5;124m\"\u001b[39m\u001b[38;5;124mInterrupted by user\u001b[39m\u001b[38;5;124m\"\u001b[39m\n\u001b[1;32m-> 1313\u001b[0m     \u001b[38;5;28;01mraise\u001b[39;00m \u001b[38;5;167;01mKeyboardInterrupt\u001b[39;00m(msg) \u001b[38;5;28;01mfrom\u001b[39;00m \u001b[38;5;28;01mNone\u001b[39;00m\n\u001b[0;32m   1314\u001b[0m \u001b[38;5;28;01mexcept\u001b[39;00m \u001b[38;5;167;01mException\u001b[39;00m:\n\u001b[0;32m   1315\u001b[0m     \u001b[38;5;28mself\u001b[39m\u001b[38;5;241m.\u001b[39mlog\u001b[38;5;241m.\u001b[39mwarning(\u001b[38;5;124m\"\u001b[39m\u001b[38;5;124mInvalid Message:\u001b[39m\u001b[38;5;124m\"\u001b[39m, exc_info\u001b[38;5;241m=\u001b[39m\u001b[38;5;28;01mTrue\u001b[39;00m)\n",
      "\u001b[1;31mKeyboardInterrupt\u001b[0m: Interrupted by user"
     ]
    }
   ],
   "source": [
    "entree = input()\n",
    "nombre_caracteres = len (entree)\n",
    "nombre_mots = len(entree.split())\n",
    "print(\"Le texte a : \\n {} caracteres \\n {} mots\".format(nombre_caracteres, nombre_mots))\n"
   ]
  },
  {
   "cell_type": "code",
   "execution_count": 1,
   "id": "a8fa8f5f-6a8c-4a67-a4da-cde24853a4a2",
   "metadata": {},
   "outputs": [
    {
     "ename": "KeyboardInterrupt",
     "evalue": "Interrupted by user",
     "output_type": "error",
     "traceback": [
      "\u001b[1;31m---------------------------------------------------------------------------\u001b[0m",
      "\u001b[1;31mKeyboardInterrupt\u001b[0m                         Traceback (most recent call last)",
      "Cell \u001b[1;32mIn[1], line 1\u001b[0m\n\u001b[1;32m----> 1\u001b[0m entree \u001b[38;5;241m=\u001b[39m \u001b[38;5;28;43minput\u001b[39;49m\u001b[43m(\u001b[49m\u001b[43m)\u001b[49m\n\u001b[0;32m      2\u001b[0m nombre_caracteres \u001b[38;5;241m=\u001b[39m \u001b[38;5;28mlen\u001b[39m(entree)\n\u001b[0;32m      3\u001b[0m nombre_mots \u001b[38;5;241m=\u001b[39m \u001b[38;5;28mlen\u001b[39m(entree\u001b[38;5;241m.\u001b[39msplit())\n",
      "File \u001b[1;32m~\\AppData\\Roaming\\Python\\Python312\\site-packages\\ipykernel\\kernelbase.py:1270\u001b[0m, in \u001b[0;36mKernel.raw_input\u001b[1;34m(self, prompt)\u001b[0m\n\u001b[0;32m   1268\u001b[0m     msg \u001b[38;5;241m=\u001b[39m \u001b[38;5;124m\"\u001b[39m\u001b[38;5;124mraw_input was called, but this frontend does not support input requests.\u001b[39m\u001b[38;5;124m\"\u001b[39m\n\u001b[0;32m   1269\u001b[0m     \u001b[38;5;28;01mraise\u001b[39;00m StdinNotImplementedError(msg)\n\u001b[1;32m-> 1270\u001b[0m \u001b[38;5;28;01mreturn\u001b[39;00m \u001b[38;5;28;43mself\u001b[39;49m\u001b[38;5;241;43m.\u001b[39;49m\u001b[43m_input_request\u001b[49m\u001b[43m(\u001b[49m\n\u001b[0;32m   1271\u001b[0m \u001b[43m    \u001b[49m\u001b[38;5;28;43mstr\u001b[39;49m\u001b[43m(\u001b[49m\u001b[43mprompt\u001b[49m\u001b[43m)\u001b[49m\u001b[43m,\u001b[49m\n\u001b[0;32m   1272\u001b[0m \u001b[43m    \u001b[49m\u001b[38;5;28;43mself\u001b[39;49m\u001b[38;5;241;43m.\u001b[39;49m\u001b[43m_parent_ident\u001b[49m\u001b[43m[\u001b[49m\u001b[38;5;124;43m\"\u001b[39;49m\u001b[38;5;124;43mshell\u001b[39;49m\u001b[38;5;124;43m\"\u001b[39;49m\u001b[43m]\u001b[49m\u001b[43m,\u001b[49m\n\u001b[0;32m   1273\u001b[0m \u001b[43m    \u001b[49m\u001b[38;5;28;43mself\u001b[39;49m\u001b[38;5;241;43m.\u001b[39;49m\u001b[43mget_parent\u001b[49m\u001b[43m(\u001b[49m\u001b[38;5;124;43m\"\u001b[39;49m\u001b[38;5;124;43mshell\u001b[39;49m\u001b[38;5;124;43m\"\u001b[39;49m\u001b[43m)\u001b[49m\u001b[43m,\u001b[49m\n\u001b[0;32m   1274\u001b[0m \u001b[43m    \u001b[49m\u001b[43mpassword\u001b[49m\u001b[38;5;241;43m=\u001b[39;49m\u001b[38;5;28;43;01mFalse\u001b[39;49;00m\u001b[43m,\u001b[49m\n\u001b[0;32m   1275\u001b[0m \u001b[43m\u001b[49m\u001b[43m)\u001b[49m\n",
      "File \u001b[1;32m~\\AppData\\Roaming\\Python\\Python312\\site-packages\\ipykernel\\kernelbase.py:1313\u001b[0m, in \u001b[0;36mKernel._input_request\u001b[1;34m(self, prompt, ident, parent, password)\u001b[0m\n\u001b[0;32m   1310\u001b[0m \u001b[38;5;28;01mexcept\u001b[39;00m \u001b[38;5;167;01mKeyboardInterrupt\u001b[39;00m:\n\u001b[0;32m   1311\u001b[0m     \u001b[38;5;66;03m# re-raise KeyboardInterrupt, to truncate traceback\u001b[39;00m\n\u001b[0;32m   1312\u001b[0m     msg \u001b[38;5;241m=\u001b[39m \u001b[38;5;124m\"\u001b[39m\u001b[38;5;124mInterrupted by user\u001b[39m\u001b[38;5;124m\"\u001b[39m\n\u001b[1;32m-> 1313\u001b[0m     \u001b[38;5;28;01mraise\u001b[39;00m \u001b[38;5;167;01mKeyboardInterrupt\u001b[39;00m(msg) \u001b[38;5;28;01mfrom\u001b[39;00m \u001b[38;5;28;01mNone\u001b[39;00m\n\u001b[0;32m   1314\u001b[0m \u001b[38;5;28;01mexcept\u001b[39;00m \u001b[38;5;167;01mException\u001b[39;00m:\n\u001b[0;32m   1315\u001b[0m     \u001b[38;5;28mself\u001b[39m\u001b[38;5;241m.\u001b[39mlog\u001b[38;5;241m.\u001b[39mwarning(\u001b[38;5;124m\"\u001b[39m\u001b[38;5;124mInvalid Message:\u001b[39m\u001b[38;5;124m\"\u001b[39m, exc_info\u001b[38;5;241m=\u001b[39m\u001b[38;5;28;01mTrue\u001b[39;00m)\n",
      "\u001b[1;31mKeyboardInterrupt\u001b[0m: Interrupted by user"
     ]
    }
   ],
   "source": [
    "entree = input()\n",
    "nombre_caracteres = len(entree)\n",
    "nombre_mots = len(entree.split())\n",
    "print(\"Le texte a : \\n {} caractères \\n {} mots\".format(nombre_caracteres, nombre_mots))\n"
   ]
  },
  {
   "cell_type": "code",
   "execution_count": 5,
   "id": "d56f3990-fa2e-4b5e-bed5-01361f1b87cc",
   "metadata": {},
   "outputs": [
    {
     "ename": "SyntaxError",
     "evalue": "invalid syntax (2059145457.py, line 1)",
     "output_type": "error",
     "traceback": [
      "\u001b[1;36m  Cell \u001b[1;32mIn[5], line 1\u001b[1;36m\u001b[0m\n\u001b[1;33m    entree =\u001b[0m\n\u001b[1;37m             ^\u001b[0m\n\u001b[1;31mSyntaxError\u001b[0m\u001b[1;31m:\u001b[0m invalid syntax\n"
     ]
    }
   ],
   "source": [
    "entree = \n",
    "nombre_caracteres = len(entree)\n",
    "nombre_mots = len(entree.split())\n",
    "print(\"Le texte a : \\n {} caractères \\n {} mots\".format(nombre_caracteres, nombre_mots))\n"
   ]
  },
  {
   "cell_type": "code",
   "execution_count": 8,
   "id": "fc64d569-eda3-4211-bb09-31016b10d842",
   "metadata": {},
   "outputs": [
    {
     "ename": "SyntaxError",
     "evalue": "invalid syntax (1867602261.py, line 1)",
     "output_type": "error",
     "traceback": [
      "\u001b[1;36m  Cell \u001b[1;32mIn[8], line 1\u001b[1;36m\u001b[0m\n\u001b[1;33m    File\"<ipython-input-5-23963163c405>\", Line 1\u001b[0m\n\u001b[1;37m        ^\u001b[0m\n\u001b[1;31mSyntaxError\u001b[0m\u001b[1;31m:\u001b[0m invalid syntax\n"
     ]
    }
   ],
   "source": [
    "File\"<ipython-input-5-23963163c405>\", Line 1\n",
    "print(\"Essayons de ne pas faire d'erreur \")"
   ]
  },
  {
   "cell_type": "code",
   "execution_count": 16,
   "id": "ed2ff6b1-c944-4f58-b457-b8f129bb4277",
   "metadata": {},
   "outputs": [
    {
     "name": "stdout",
     "output_type": "stream",
     "text": [
      "Additionnons 2 et 2\n"
     ]
    },
    {
     "data": {
      "text/plain": [
       "4"
      ]
     },
     "execution_count": 16,
     "metadata": {},
     "output_type": "execute_result"
    }
   ],
   "source": [
    "print (\"Additionnons 2 et 2\")\n",
    "2+2"
   ]
  },
  {
   "cell_type": "code",
   "execution_count": 18,
   "id": "31bf41c3-1306-4a0d-9dbb-4329d2434f3a",
   "metadata": {},
   "outputs": [
    {
     "data": {
      "text/plain": [
       "\u001b[1;31mSignature:\u001b[0m \u001b[0mprint\u001b[0m\u001b[1;33m(\u001b[0m\u001b[1;33m*\u001b[0m\u001b[0margs\u001b[0m\u001b[1;33m,\u001b[0m \u001b[0msep\u001b[0m\u001b[1;33m=\u001b[0m\u001b[1;34m' '\u001b[0m\u001b[1;33m,\u001b[0m \u001b[0mend\u001b[0m\u001b[1;33m=\u001b[0m\u001b[1;34m'\\n'\u001b[0m\u001b[1;33m,\u001b[0m \u001b[0mfile\u001b[0m\u001b[1;33m=\u001b[0m\u001b[1;32mNone\u001b[0m\u001b[1;33m,\u001b[0m \u001b[0mflush\u001b[0m\u001b[1;33m=\u001b[0m\u001b[1;32mFalse\u001b[0m\u001b[1;33m)\u001b[0m\u001b[1;33m\u001b[0m\u001b[1;33m\u001b[0m\u001b[0m\n",
       "\u001b[1;31mDocstring:\u001b[0m\n",
       "Prints the values to a stream, or to sys.stdout by default.\n",
       "\n",
       "sep\n",
       "  string inserted between values, default a space.\n",
       "end\n",
       "  string appended after the last value, default a newline.\n",
       "file\n",
       "  a file-like object (stream); defaults to the current sys.stdout.\n",
       "flush\n",
       "  whether to forcibly flush the stream.\n",
       "\u001b[1;31mType:\u001b[0m      builtin_function_or_method"
      ]
     },
     "metadata": {},
     "output_type": "display_data"
    }
   ],
   "source": [
    "print?"
   ]
  },
  {
   "cell_type": "code",
   "execution_count": 20,
   "id": "359d40da-e189-4fbb-950f-6b9774794d10",
   "metadata": {},
   "outputs": [],
   "source": [
    "pop_france= 67190000"
   ]
  },
  {
   "cell_type": "code",
   "execution_count": 22,
   "id": "6c8df21d-b297-45a5-be0b-032224b55f45",
   "metadata": {},
   "outputs": [],
   "source": [
    "pop_france_M = 67.19"
   ]
  },
  {
   "cell_type": "code",
   "execution_count": 26,
   "id": "8284fe3d-063c-45dd-9b74-adcbdf523c9c",
   "metadata": {},
   "outputs": [
    {
     "name": "stdout",
     "output_type": "stream",
     "text": [
      "67.19\n"
     ]
    }
   ],
   "source": [
    "print(pop_france_M)"
   ]
  },
  {
   "cell_type": "code",
   "execution_count": 28,
   "id": "841ced67-8645-4862-bdb5-595a004c98da",
   "metadata": {},
   "outputs": [
    {
     "name": "stdout",
     "output_type": "stream",
     "text": [
      "73909000.0\n"
     ]
    }
   ],
   "source": [
    "pop_france_augmentation = pop_france + 0.1*pop_france\n",
    "print(pop_france_augmentation)"
   ]
  },
  {
   "cell_type": "code",
   "execution_count": 30,
   "id": "6425f953-07c6-4a27-a46c-bb041ba381da",
   "metadata": {},
   "outputs": [
    {
     "name": "stdout",
     "output_type": "stream",
     "text": [
      "73909000.0\n"
     ]
    }
   ],
   "source": [
    "print(1.1*pop_france)"
   ]
  },
  {
   "cell_type": "code",
   "execution_count": 34,
   "id": "d2016cec-307a-4b46-ae47-2b02ee368ade",
   "metadata": {},
   "outputs": [
    {
     "name": "stdout",
     "output_type": "stream",
     "text": [
      "67190000\n",
      "67452041.0\n"
     ]
    }
   ],
   "source": [
    "\" Si la pop fr augmente avec un facteur de 0,39% par an , alors la pop dans un an peut se recalculer \"\n",
    "print(pop_france)\n",
    "pop_france = pop_france + 0.0039*pop_france\n",
    "print(pop_france)"
   ]
  },
  {
   "cell_type": "code",
   "execution_count": 40,
   "id": "41f90993-fdb0-45f3-9909-5d9b813d9b13",
   "metadata": {},
   "outputs": [
    {
     "name": "stdout",
     "output_type": "stream",
     "text": [
      "<class 'int'>\n"
     ]
    }
   ],
   "source": [
    "\"Les types de variable \"\n",
    "pop_france=67190000\n",
    "print(type(pop_france))"
   ]
  },
  {
   "cell_type": "code",
   "execution_count": 44,
   "id": "94cba08f-b3e6-4189-b07b-9a8951f592ed",
   "metadata": {},
   "outputs": [
    {
     "name": "stdout",
     "output_type": "stream",
     "text": [
      "<class 'float'>\n"
     ]
    }
   ],
   "source": [
    "pop_france_M=67.19\n",
    "print(type(pop_france_M))"
   ]
  },
  {
   "cell_type": "code",
   "execution_count": 46,
   "id": "dfcff19d-94e4-47de-a606-4881ea97b17d",
   "metadata": {},
   "outputs": [
    {
     "name": "stdout",
     "output_type": "stream",
     "text": [
      "None\n"
     ]
    }
   ],
   "source": [
    "variable =None\n",
    "print(variable)"
   ]
  },
  {
   "cell_type": "code",
   "execution_count": 60,
   "id": "40af81cb-ef4e-4fee-8f8f-0e5debb91f8f",
   "metadata": {},
   "outputs": [],
   "source": [
    "Pays = \"France\"\n",
    "\n"
   ]
  },
  {
   "cell_type": "code",
   "execution_count": 64,
   "id": "30508937-9ec9-4bbc-a897-e41d70614f64",
   "metadata": {},
   "outputs": [
    {
     "data": {
      "text/plain": [
       "str"
      ]
     },
     "execution_count": 64,
     "metadata": {},
     "output_type": "execute_result"
    }
   ],
   "source": [
    "type(Pays)"
   ]
  },
  {
   "cell_type": "code",
   "execution_count": 84,
   "id": "411dd91d-26fe-4bc2-8722-fd3ed91c3b49",
   "metadata": {},
   "outputs": [
    {
     "name": "stdout",
     "output_type": "stream",
     "text": [
      "\"C'est un petit pas pour l'homme...\" - N. Armstrong\n",
      "\"C'est un petit pas pour l'homme...\" - N. Armstrong\n",
      "\"C'est un petit pas pour l'homme...\" - N. Armstrong\n",
      "\"C'est un petit pas pour l'homme...\" - N. Armstrong\n"
     ]
    }
   ],
   "source": [
    "\"\\ veut dire Backslash\"\n",
    "\n",
    "print('\"C\\'est un petit pas pour l\\'homme...\" - N. Armstrong')\n",
    "print(\"\\\"C'est un petit pas pour l'homme...\\\" - N. Armstrong\")\n",
    "print('''\"C'est un petit pas pour l'homme...\" - N. Armstrong''')\n",
    "print(\"\"\"\"C'est un petit pas pour l'homme...\" - N. Armstrong\"\"\")"
   ]
  },
  {
   "cell_type": "code",
   "execution_count": 90,
   "id": "b6546a4c-9676-4387-812c-a78afdf16cd2",
   "metadata": {},
   "outputs": [
    {
     "name": "stdout",
     "output_type": "stream",
     "text": [
      " Population 67190000 habitants \n"
     ]
    }
   ],
   "source": [
    "texte= \" Population \" + str(pop_france) + \" habitants \"\n",
    "print(texte)"
   ]
  },
  {
   "cell_type": "code",
   "execution_count": 102,
   "id": "7a1b643c-979b-460d-9b06-1210539ec773",
   "metadata": {},
   "outputs": [
    {
     "name": "stdout",
     "output_type": "stream",
     "text": [
      "France a 67190000 habitants\n"
     ]
    }
   ],
   "source": [
    "\n",
    "population =67190000\n",
    "pays=\"France\"\n",
    "print(pays + \" a \" +str(population) +\" habitants\") "
   ]
  },
  {
   "cell_type": "code",
   "execution_count": 145,
   "id": "f49c4a20-26da-49e6-a556-92e18ece1b18",
   "metadata": {},
   "outputs": [
    {
     "name": "stdout",
     "output_type": "stream",
     "text": [
      "[81, 61, 46, 11, 8, 0.5]\n"
     ]
    }
   ],
   "source": [
    "\"\"\" Les crochets servent à faire une liste de ........\"\"\"\n",
    "Liste_populations = [81, 61, 46, 11, 8, 0.5]\n",
    "print(Liste_populations)"
   ]
  },
  {
   "cell_type": "code",
   "execution_count": 100,
   "id": "33ba9292-a9a5-46a6-95b5-12c45e58f438",
   "metadata": {},
   "outputs": [
    {
     "name": "stdout",
     "output_type": "stream",
     "text": [
      "<class 'list'>\n"
     ]
    }
   ],
   "source": [
    "print(type(Liste_populations))"
   ]
  },
  {
   "cell_type": "code",
   "execution_count": 147,
   "id": "27014dd2-97e0-42d9-a93c-a11db652dee2",
   "metadata": {},
   "outputs": [],
   "source": [
    "if 0.5 in Liste_populations:\n",
    "    Liste_populations.remove(0.5)\n",
    "else:\n",
    "    print(\"L'élément 0.5 n'est pas dans la liste\")\n"
   ]
  },
  {
   "cell_type": "code",
   "execution_count": 151,
   "id": "81f950fc-c7f2-4505-ba35-1f5da8b178a5",
   "metadata": {},
   "outputs": [
    {
     "name": "stdout",
     "output_type": "stream",
     "text": [
      "[81, 61, 46, 11, 8]\n"
     ]
    }
   ],
   "source": [
    "print(Liste_populations)\n"
   ]
  },
  {
   "cell_type": "code",
   "execution_count": 163,
   "id": "188c7293-8631-4557-9848-3f28e0e804dc",
   "metadata": {},
   "outputs": [
    {
     "name": "stdout",
     "output_type": "stream",
     "text": [
      "11\n",
      "61\n"
     ]
    }
   ],
   "source": [
    "print(Liste_populations[3])\n",
    "print(Liste_populations[1])\n"
   ]
  },
  {
   "cell_type": "code",
   "execution_count": 175,
   "id": "711a7769-b7ff-4ffe-9a02-2b698b812b43",
   "metadata": {},
   "outputs": [
    {
     "name": "stdout",
     "output_type": "stream",
     "text": [
      " Si je souhaite ajouter un nouvel élément: append \n",
      "[81, 61, 46, 11, 8, 67, 67, 67, 67]\n"
     ]
    }
   ],
   "source": [
    "print(\" Si je souhaite ajouter un nouvel élément: append \")\n",
    "Liste_populations.append(67)\n",
    "print(Liste_populations)"
   ]
  },
  {
   "cell_type": "code",
   "execution_count": 211,
   "id": "91f30fec-8343-458f-afb8-f49edd756a7a",
   "metadata": {},
   "outputs": [
    {
     "name": "stdout",
     "output_type": "stream",
     "text": [
      "Afin de modifier un élément dans la liste :\n",
      "[82, 61, 46, 11, 8, 67, 67, 67, 67]\n"
     ]
    }
   ],
   "source": [
    "print(\"Afin de modifier un élément dans la liste :\")\n",
    "Liste_populations[0]=82\n",
    "print(Liste_populations)"
   ]
  },
  {
   "cell_type": "code",
   "execution_count": 205,
   "id": "3acc145c-d52e-4619-be9a-bf41eca7dd46",
   "metadata": {},
   "outputs": [
    {
     "name": "stdout",
     "output_type": "stream",
     "text": [
      "Pour la liste [13, 32, 43, 23, 'dix', 16] faites un code qui remplace avec l'ordi l'avant dernier élément pour un nombre \n",
      "[13, 32, 43, 23, 10, 16]\n"
     ]
    }
   ],
   "source": [
    "print(\"Pour la liste [13, 32, 43, 23, 'dix', 16] faites un code qui remplace avec l'ordi l'avant dernier élément pour un nombre \")\n",
    "\n",
    "liste = [13, 32, 43, 23, \"dix\", 16]\n",
    "liste[-2]= 10 \n",
    "print(liste)\n"
   ]
  },
  {
   "cell_type": "code",
   "execution_count": 209,
   "id": "cd72992e-d45b-48b7-9672-b23998ac7368",
   "metadata": {},
   "outputs": [
    {
     "name": "stdout",
     "output_type": "stream",
     "text": [
      " Je souhaite lier chaque pays à sa population:\n",
      "{'Allemagne': 81, 'Italie': 60, 'Espagne': 46, 'Belgique': 11, 'Suisse': 8, 'Luxembourg': 0.5}\n"
     ]
    }
   ],
   "source": [
    "print(\" Je souhaite lier chaque pays à sa population:\")\n",
    "dictionnaire_population={\n",
    "    \"Allemagne\":81,\n",
    "    \"Italie\":60,\n",
    "    \"Espagne\":46,\n",
    "    \"Belgique\":11,\n",
    "    \"Suisse\":8,\n",
    "    \"Luxembourg\":0.5\n",
    "}\n",
    "print(dictionnaire_population)"
   ]
  },
  {
   "cell_type": "code",
   "execution_count": 219,
   "id": "771dce09-bc5d-4b9b-a58d-464a9eca49df",
   "metadata": {},
   "outputs": [
    {
     "name": "stdout",
     "output_type": "stream",
     "text": [
      "81\n"
     ]
    }
   ],
   "source": [
    "print(dictionnaire_population[\"Allemagne\"])"
   ]
  },
  {
   "cell_type": "code",
   "execution_count": 221,
   "id": "1ae4da66-d475-4e23-af30-3d5da3fdd250",
   "metadata": {},
   "outputs": [
    {
     "name": "stdout",
     "output_type": "stream",
     "text": [
      "Ajout du UK :\n"
     ]
    },
    {
     "data": {
      "text/plain": [
       "{'Allemagne': 81,\n",
       " 'Italie': 60,\n",
       " 'Espagne': 46,\n",
       " 'Belgique': 11,\n",
       " 'Suisse': 8,\n",
       " 'Luxembourg': 0.5,\n",
       " 'Royaume-Uni': 65}"
      ]
     },
     "execution_count": 221,
     "metadata": {},
     "output_type": "execute_result"
    }
   ],
   "source": [
    "print(\"Ajout du UK :\")\n",
    "dictionnaire_population[\"Royaume-Uni\"]=65\n",
    "dictionnaire_population\n"
   ]
  },
  {
   "cell_type": "code",
   "execution_count": 223,
   "id": "b95a4896-8f21-4681-aac1-91e1608ef011",
   "metadata": {},
   "outputs": [
    {
     "name": "stdout",
     "output_type": "stream",
     "text": [
      "Modification de l'Allemagne :\n"
     ]
    },
    {
     "data": {
      "text/plain": [
       "{'Allemagne': 82,\n",
       " 'Italie': 60,\n",
       " 'Espagne': 46,\n",
       " 'Belgique': 11,\n",
       " 'Suisse': 8,\n",
       " 'Luxembourg': 0.5,\n",
       " 'Royaume-Uni': 65}"
      ]
     },
     "execution_count": 223,
     "metadata": {},
     "output_type": "execute_result"
    }
   ],
   "source": [
    "print(\"Modification de l'Allemagne :\")\n",
    "dictionnaire_population[\"Allemagne\"]=82\n",
    "dictionnaire_population"
   ]
  },
  {
   "cell_type": "code",
   "execution_count": 237,
   "id": "54dc7d9a-0c8c-4e80-8d4d-508057a92b57",
   "metadata": {},
   "outputs": [
    {
     "name": "stdout",
     "output_type": "stream",
     "text": [
      "Exercice : créer un dictionnaire avec mon nom, prenom, age et la ville de résidence, puis une liste avec plusieurs individus : \n"
     ]
    }
   ],
   "source": [
    "print(\"Exercice : créer un dictionnaire avec mon nom, prenom, age et la ville de résidence, puis une liste avec plusieurs individus : \")\n",
    "mon_dictionnaire={\n",
    "    \"Nom\":\"SISSOKO\",\n",
    "    \"Prenom\":\" Moussa\",\n",
    "    \"Age\":\"25\",\n",
    "    \"Ville\":\"Metz-Grand Est, France\"\n",
    "}"
   ]
  },
  {
   "cell_type": "code",
   "execution_count": 241,
   "id": "0edf0daa-c1d6-4358-ade9-badfafebec8b",
   "metadata": {},
   "outputs": [
    {
     "name": "stdout",
     "output_type": "stream",
     "text": [
      "{'Nom': 'SISSOKO', 'Prenom': ' Moussa', 'Age': '25', 'Ville': 'Metz-Grand Est, France'}\n"
     ]
    }
   ],
   "source": [
    "print(mon_dictionnaire)"
   ]
  },
  {
   "cell_type": "code",
   "execution_count": 243,
   "id": "c24a58ed-7b4a-4517-8bb4-a1a27e4138c8",
   "metadata": {},
   "outputs": [
    {
     "name": "stdout",
     "output_type": "stream",
     "text": [
      "7\n"
     ]
    }
   ],
   "source": [
    "nombre=len(dictionnaire_population)\n",
    "print(nombre)"
   ]
  },
  {
   "cell_type": "code",
   "execution_count": 253,
   "id": "928affb0-ce41-4808-9a09-bd20b6b6237a",
   "metadata": {},
   "outputs": [
    {
     "name": "stdout",
     "output_type": "stream",
     "text": [
      "Conditions et comparaisons\n",
      "Le type de la comparaison est <class 'bool'>\n",
      "La valeur de la comparaison est False\n"
     ]
    }
   ],
   "source": [
    "print(\"Conditions et comparaisons\")\n",
    "comparaison = (\"deux\" == 2)\n",
    "print(\"Le type de la comparaison est\", type(comparaison))\n",
    "print(\"La valeur de la comparaison est\", comparaison)"
   ]
  },
  {
   "cell_type": "code",
   "execution_count": 257,
   "id": "3f239ed9-2cc3-4b2a-823d-a15acf05a95c",
   "metadata": {},
   "outputs": [
    {
     "name": "stdout",
     "output_type": "stream",
     "text": [
      "5\n"
     ]
    }
   ],
   "source": [
    "exemple= [1,2,3,4,5,5,5,5,5,5]\n",
    "exemple_set = set(exemple)\n",
    "print(len(exemple_set))"
   ]
  },
  {
   "cell_type": "code",
   "execution_count": 263,
   "id": "6f367150-36e7-46f9-ad71-340ab2e396d5",
   "metadata": {},
   "outputs": [],
   "source": [
    "couleurs=[\"bleu\",\"blanc\",\"rouge\"]\n",
    "#print(couleurs[0])"
   ]
  },
  {
   "cell_type": "code",
   "execution_count": 274,
   "id": "4ecd1f0a-19de-4d31-befb-d4914d72ccfb",
   "metadata": {},
   "outputs": [
    {
     "name": "stdout",
     "output_type": "stream",
     "text": [
      " Pus de dix millions\n"
     ]
    }
   ],
   "source": [
    "#### Les blocs structurants : conditions, boucles et fonctions \n",
    "pop_france=67\n",
    "if pop_france >= 10:\n",
    "    print(' Pus de dix millions')\n",
    "else :\n",
    "    print(' Moins de dix millions')"
   ]
  },
  {
   "cell_type": "code",
   "execution_count": 280,
   "id": "86585553-402c-453b-b3a1-c46bdd1639a6",
   "metadata": {},
   "outputs": [
    {
     "name": "stdout",
     "output_type": "stream",
     "text": [
      "Conditions : \n",
      "Grand pays européen\n"
     ]
    }
   ],
   "source": [
    "print(\"Conditions : \")\n",
    "population= 18\n",
    "continent = \"Europe\"\n",
    "if (population < 10) and (continent==\"Europe\"):\n",
    "    print('Petit pays européen ')\n",
    "if(population < 10) and (continent!=\"Europe\"):\n",
    "    print('Petit pays non européen')\n",
    "if(population >= 10) and (continent==\"Europe\"):\n",
    "    print('Grand pays européen')"
   ]
  },
  {
   "cell_type": "code",
   "execution_count": 284,
   "id": "2e5f1781-5461-4d33-a2a6-33ceb02aae1c",
   "metadata": {},
   "outputs": [
    {
     "name": "stdout",
     "output_type": "stream",
     "text": [
      "Les Boucles : \n",
      "population 0.5\n",
      "population 0.5\n",
      "population 0.5\n",
      "population 0.5\n",
      "population 0.5\n",
      "population 0.5\n",
      "population 0.5\n"
     ]
    }
   ],
   "source": [
    "## Les boucles \n",
    "print(\"Les Boucles : \")\n",
    "Liste_populations =[81,67,60,46,11,8,0.5]\n",
    "for po in Liste_populations:\n",
    "    print(\"population\",p)\n",
    "      "
   ]
  },
  {
   "cell_type": "code",
   "execution_count": 288,
   "id": "23b51fcf-82ed-4010-87b6-75bbe0c43c8e",
   "metadata": {},
   "outputs": [
    {
     "name": "stdout",
     "output_type": "stream",
     "text": [
      "Allemagne 82\n",
      "Italie 60\n",
      "Espagne 46\n",
      "Belgique 11\n",
      "Suisse 8\n",
      "Luxembourg 0.5\n",
      "Royaume-Uni 65\n"
     ]
    }
   ],
   "source": [
    "for pays in dictionnaire_population:\n",
    "    print(pays,dictionnaire_population[pays])"
   ]
  },
  {
   "cell_type": "code",
   "execution_count": 294,
   "id": "39dd3c2d-9a45-4e40-9f02-5736c0e9a90a",
   "metadata": {},
   "outputs": [
    {
     "name": "stdout",
     "output_type": "stream",
     "text": [
      "Allemagne 82\n",
      "Italie 60\n",
      "Royaume-Uni 65\n"
     ]
    }
   ],
   "source": [
    "for pays in dictionnaire_population:\n",
    "    if dictionnaire_population[pays] >= 50:\n",
    "        print(pays, dictionnaire_population[pays])"
   ]
  },
  {
   "cell_type": "code",
   "execution_count": 296,
   "id": "4c8a5b1c-ff1a-4bd6-bb35-de37d2f8c65c",
   "metadata": {},
   "outputs": [],
   "source": [
    "def recoder_population(population_entree):\n",
    "    if population_entree >=10:\n",
    "        return \">=10\"\n",
    "    else:\n",
    "        return \"<=10\""
   ]
  },
  {
   "cell_type": "code",
   "execution_count": 302,
   "id": "fe2a4bc1-4488-4dbf-a850-12c9f431cce1",
   "metadata": {},
   "outputs": [
    {
     "data": {
      "text/plain": [
       "'>=10'"
      ]
     },
     "execution_count": 302,
     "metadata": {},
     "output_type": "execute_result"
    }
   ],
   "source": [
    "recoder_population(11)"
   ]
  },
  {
   "cell_type": "code",
   "execution_count": 306,
   "id": "734feb54-298a-4a54-8b10-dd72b9de09bf",
   "metadata": {},
   "outputs": [
    {
     "name": "stdout",
     "output_type": "stream",
     "text": [
      "['>=10', '>=10', '>=10', '>=10', '>=10', '<=10', '<=10']\n"
     ]
    }
   ],
   "source": [
    "pop_reco=[]\n",
    "for pop in Liste_populations:\n",
    "    pop_reco.append(recoder_population(pop))\n",
    "print(pop_reco)"
   ]
  },
  {
   "cell_type": "code",
   "execution_count": 320,
   "id": "7827c15e-bbb1-4a5b-97ed-50583aacb39d",
   "metadata": {},
   "outputs": [],
   "source": [
    "def recoder_population(populaion_entree):\n",
    "    if type(population_entree)!=int:\n",
    "        return \"Erreur d'entrée\"\n",
    "    if population_entree >=10:\n",
    "        return \" Plus de 10 millions\"\n",
    "    else:\n",
    "        return \"Moins de 10 millions \""
   ]
  },
  {
   "cell_type": "code",
   "execution_count": 332,
   "id": "3777f1a9-1192-4955-8afa-bf7f9e8e0327",
   "metadata": {},
   "outputs": [],
   "source": [
    "def recoder_population(pop, seuil=10):\n",
    "    if pop >= seuil:\n",
    "        return \"Plus de \"+str(seuil)+\" millions d'habitants\"\n",
    "    else:\n",
    "        return \"Moins de \"+str(seuil)+\" millions d'habitants\""
   ]
  },
  {
   "cell_type": "code",
   "execution_count": 334,
   "id": "847b8190-3bda-4290-9206-135250f986d6",
   "metadata": {},
   "outputs": [
    {
     "name": "stdout",
     "output_type": "stream",
     "text": [
      "Plus de 10 millions d'habitants\n",
      "Moins de 30 millions d'habitants\n"
     ]
    }
   ],
   "source": [
    "print(recoder_population(20))\n",
    "print(recoder_population(20,30))"
   ]
  },
  {
   "cell_type": "code",
   "execution_count": 344,
   "id": "9dad1beb-235f-4457-92db-f00bd5002b83",
   "metadata": {},
   "outputs": [
    {
     "data": {
      "text/plain": [
       "500500"
      ]
     },
     "execution_count": 344,
     "metadata": {},
     "output_type": "execute_result"
    }
   ],
   "source": [
    "sum(range(1,1001))\n"
   ]
  },
  {
   "cell_type": "code",
   "execution_count": 346,
   "id": "ba2a85fd-f35d-4eaa-abc9-0e233b7ad64d",
   "metadata": {},
   "outputs": [
    {
     "name": "stdout",
     "output_type": "stream",
     "text": [
      "variable_globale :  20\n"
     ]
    },
    {
     "ename": "NameError",
     "evalue": "name 'locale' is not defined",
     "output_type": "error",
     "traceback": [
      "\u001b[1;31m---------------------------------------------------------------------------\u001b[0m",
      "\u001b[1;31mNameError\u001b[0m                                 Traceback (most recent call last)",
      "Cell \u001b[1;32mIn[346], line 10\u001b[0m\n\u001b[0;32m      7\u001b[0m     \u001b[38;5;28mprint\u001b[39m(\u001b[38;5;124m\"\u001b[39m\u001b[38;5;124mvariable_locale : \u001b[39m\u001b[38;5;124m\"\u001b[39m, variable\u001b[38;5;241m-\u001b[39mlocale)\n\u001b[0;32m      9\u001b[0m \u001b[38;5;66;03m# Execution de la fonction \u001b[39;00m\n\u001b[1;32m---> 10\u001b[0m \u001b[43mtest\u001b[49m\u001b[43m(\u001b[49m\u001b[43m)\u001b[49m\n\u001b[0;32m     11\u001b[0m \u001b[38;5;28mprint\u001b[39m(variable_locale)\n",
      "Cell \u001b[1;32mIn[346], line 7\u001b[0m, in \u001b[0;36mtest\u001b[1;34m()\u001b[0m\n\u001b[0;32m      5\u001b[0m variable_locale \u001b[38;5;241m=\u001b[39m \u001b[38;5;241m10\u001b[39m\n\u001b[0;32m      6\u001b[0m \u001b[38;5;28mprint\u001b[39m(\u001b[38;5;124m\"\u001b[39m\u001b[38;5;124mvariable_globale : \u001b[39m\u001b[38;5;124m\"\u001b[39m, variable_globale)\n\u001b[1;32m----> 7\u001b[0m \u001b[38;5;28mprint\u001b[39m(\u001b[38;5;124m\"\u001b[39m\u001b[38;5;124mvariable_locale : \u001b[39m\u001b[38;5;124m\"\u001b[39m, variable\u001b[38;5;241m-\u001b[39m\u001b[43mlocale\u001b[49m)\n",
      "\u001b[1;31mNameError\u001b[0m: name 'locale' is not defined"
     ]
    }
   ],
   "source": [
    "variable_globale = 20 \n",
    "\n",
    "# Définition d'une fonction\n",
    "def test():\n",
    "    variable_locale = 10\n",
    "    print(\"variable_globale : \", variable_globale)\n",
    "    print(\"variable_locale : \", variable-locale)\n",
    "\n",
    "# Execution de la fonction \n",
    "test()\n",
    "print(variable_locale)\n"
   ]
  },
  {
   "cell_type": "code",
   "execution_count": 348,
   "id": "3bd67dc4-89ad-45cd-b8dc-8d20765b8f67",
   "metadata": {},
   "outputs": [
    {
     "name": "stdout",
     "output_type": "stream",
     "text": [
      "variable_globale :  20\n",
      "variable_locale :  10\n"
     ]
    }
   ],
   "source": [
    "# Déclaration de la variable globale\n",
    "variable_globale = 20\n",
    "\n",
    "def test():\n",
    "    # Déclaration de la variable locale\n",
    "    variable_locale = 10\n",
    "    print(\"variable_globale : \", variable_globale)\n",
    "    print(\"variable_locale : \", variable_locale)\n",
    "\n",
    "# Exécution de la fonction \n",
    "test()\n",
    "\n"
   ]
  },
  {
   "cell_type": "code",
   "execution_count": 350,
   "id": "38b82e10-1717-4e75-b351-3d0decc4baf8",
   "metadata": {},
   "outputs": [
    {
     "ename": "NameError",
     "evalue": "name 'Brésil' is not defined",
     "output_type": "error",
     "traceback": [
      "\u001b[1;31m---------------------------------------------------------------------------\u001b[0m",
      "\u001b[1;31mNameError\u001b[0m                                 Traceback (most recent call last)",
      "Cell \u001b[1;32mIn[350], line 1\u001b[0m\n\u001b[1;32m----> 1\u001b[0m \u001b[38;5;28mprint\u001b[39m(dictionnaire_population[\u001b[43mBrésil\u001b[49m])\n",
      "\u001b[1;31mNameError\u001b[0m: name 'Brésil' is not defined"
     ]
    }
   ],
   "source": [
    "print(dictionnaire_population[Brésil])\n"
   ]
  },
  {
   "cell_type": "code",
   "execution_count": 352,
   "id": "bbe179e2-362e-46f5-843c-161d00b66018",
   "metadata": {},
   "outputs": [
    {
     "name": "stdout",
     "output_type": "stream",
     "text": [
      "Entrée absente\n"
     ]
    }
   ],
   "source": [
    "try:\n",
    "   print(dictionnaire_population[\"Brésil\"]) \n",
    "except:\n",
    "    print(\"Entrée absente\")"
   ]
  },
  {
   "cell_type": "code",
   "execution_count": null,
   "id": "c0da9d7c-d808-4f81-9366-3a4d7cbe19e2",
   "metadata": {},
   "outputs": [],
   "source": []
  }
 ],
 "metadata": {
  "kernelspec": {
   "display_name": "Python 3 (ipykernel)",
   "language": "python",
   "name": "python3"
  },
  "language_info": {
   "codemirror_mode": {
    "name": "ipython",
    "version": 3
   },
   "file_extension": ".py",
   "mimetype": "text/x-python",
   "name": "python",
   "nbconvert_exporter": "python",
   "pygments_lexer": "ipython3",
   "version": "3.12.4"
  }
 },
 "nbformat": 4,
 "nbformat_minor": 5
}
